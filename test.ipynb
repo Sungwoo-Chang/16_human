{
 "cells": [
  {
   "cell_type": "code",
   "execution_count": 3,
   "metadata": {},
   "outputs": [
    {
     "ename": "AttributeError",
     "evalue": "module 'liana' has no attribute 'liana'",
     "output_type": "error",
     "traceback": [
      "\u001b[1;31m---------------------------------------------------------------------------\u001b[0m",
      "\u001b[1;31mAttributeError\u001b[0m                            Traceback (most recent call last)",
      "Cell \u001b[1;32mIn[3], line 11\u001b[0m\n\u001b[0;32m      8\u001b[0m adata \u001b[38;5;241m=\u001b[39m sc\u001b[38;5;241m.\u001b[39mread_h5ad(folder_path \u001b[38;5;241m+\u001b[39m \u001b[38;5;124m'\u001b[39m\u001b[38;5;124madata_scVI.h5ad\u001b[39m\u001b[38;5;124m'\u001b[39m)\n\u001b[0;32m     10\u001b[0m \u001b[38;5;66;03m# LIANA 실행\u001b[39;00m\n\u001b[1;32m---> 11\u001b[0m liana_results \u001b[38;5;241m=\u001b[39m li\u001b[38;5;241m.\u001b[39mliana(adata, method\u001b[38;5;241m=\u001b[39m\u001b[38;5;124m'\u001b[39m\u001b[38;5;124mconsensus\u001b[39m\u001b[38;5;124m'\u001b[39m)\n\u001b[0;32m     13\u001b[0m \u001b[38;5;66;03m# 결과 확인\u001b[39;00m\n\u001b[0;32m     14\u001b[0m \u001b[38;5;28mprint\u001b[39m(liana_results)\n",
      "\u001b[1;31mAttributeError\u001b[0m: module 'liana' has no attribute 'liana'"
     ]
    }
   ],
   "source": [
    "import scanpy as sc\n",
    "import liana as li\n",
    "\n",
    "\n",
    "folder_path = \"C:/Users/heung/OneDrive/Documents/scData/16. Siglec-9_GSE235913/concat/\"\n",
    "\n",
    "# 이미 전처리된 데이터 로드\n",
    "adata = sc.read_h5ad(folder_path + 'adata_scVI.h5ad')\n",
    "\n",
    "# LIANA 실행\n",
    "liana_results = li.liana(adata, method='consensus')\n",
    "\n",
    "# 결과 확인\n",
    "print(liana_results)\n",
    "\n",
    "# 결과를 데이터프레임으로 변환\n",
    "import pandas as pd\n",
    "liana_df = pd.DataFrame(liana_results)\n",
    "\n",
    "# 상위 상호작용 시각화\n",
    "top_interactions = liana_df.sort_values(by='weight', ascending=False).head(10)\n",
    "print(top_interactions)\n"
   ]
  }
 ],
 "metadata": {
  "kernelspec": {
   "display_name": "base",
   "language": "python",
   "name": "python3"
  },
  "language_info": {
   "codemirror_mode": {
    "name": "ipython",
    "version": 3
   },
   "file_extension": ".py",
   "mimetype": "text/x-python",
   "name": "python",
   "nbconvert_exporter": "python",
   "pygments_lexer": "ipython3",
   "version": "3.11.9"
  }
 },
 "nbformat": 4,
 "nbformat_minor": 2
}
