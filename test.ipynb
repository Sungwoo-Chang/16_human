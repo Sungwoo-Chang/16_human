{
 "cells": [
  {
   "cell_type": "code",
   "execution_count": 1,
   "metadata": {},
   "outputs": [
    {
     "name": "stdout",
     "output_type": "stream",
     "text": [
      "      gene_name1\n",
      "index           \n",
      "0              X\n",
      "1              Y\n",
      "2              C\n"
     ]
    }
   ],
   "source": [
    "import pandas as pd\n",
    "\n",
    "# 예제 DataFrame 생성\n",
    "df1 = pd.DataFrame({\n",
    "    'index': [0, 1, 2],\n",
    "    'gene_name1': ['A', 'B', 'C']\n",
    "}).set_index('index')\n",
    "\n",
    "df2 = pd.DataFrame({\n",
    "    'index': [0, 1, 3],\n",
    "    'gene_name2': ['X', 'Y', 'Z']\n",
    "}).set_index('index')\n",
    "\n",
    "# df2의 'gene_name2' 값을 df1의 'gene_name1' 열로 대체\n",
    "# 우선 df2와 df1을 병합\n",
    "merged_df = df1.join(df2[['gene_name2']], how='left')\n",
    "\n",
    "# 'gene_name1' 열의 값을 'gene_name2'로 대체\n",
    "merged_df['gene_name1'] = merged_df['gene_name2'].fillna(merged_df['gene_name1'])\n",
    "\n",
    "# 필요 없는 'gene_name2' 열 제거\n",
    "result_df = merged_df.drop(columns='gene_name2')\n",
    "\n",
    "print(result_df)\n"
   ]
  }
 ],
 "metadata": {
  "kernelspec": {
   "display_name": "base",
   "language": "python",
   "name": "python3"
  },
  "language_info": {
   "codemirror_mode": {
    "name": "ipython",
    "version": 3
   },
   "file_extension": ".py",
   "mimetype": "text/x-python",
   "name": "python",
   "nbconvert_exporter": "python",
   "pygments_lexer": "ipython3",
   "version": "3.11.9"
  }
 },
 "nbformat": 4,
 "nbformat_minor": 2
}
